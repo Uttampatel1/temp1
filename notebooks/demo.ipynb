{
 "cells": [
  {
   "cell_type": "code",
   "execution_count": 1,
   "metadata": {},
   "outputs": [],
   "source": [
    "import pickle \n",
    "import random\n",
    "\n",
    "with open('/workspaces/codespaces-blank/data/food_Info.pkl', 'rb') as f:\n",
    "    food_tables = pickle.load(f)\n",
    "    \n",
    "\n",
    "def recommend_food(calorie_limit):\n",
    "    selected_foods_breakfast = []\n",
    "    selected_foods_lunch = []\n",
    "    selected_foods_dinner = []\n",
    "\n",
    "    remaining_calories_breakfast = int(calorie_limit * 0.4)\n",
    "    remaining_calories_lunch = int(calorie_limit * 0.3)\n",
    "    remaining_calories_dinner = int(calorie_limit * 0.3)\n",
    "\n",
    "    while remaining_calories_breakfast > 0:\n",
    "        # Choose a random food table\n",
    "        table_name = random.choice(list(food_tables.keys()))\n",
    "        table = food_tables[table_name]\n",
    "        \n",
    "        if list(table.values())[0][0][5] == 1:\n",
    "            # Choose a random food item from the selected table\n",
    "            food_name = random.choice(list(table.keys()))\n",
    "            \n",
    "            food_calories = table[food_name][0][4]\n",
    "\n",
    "            # Check if adding the food exceeds the remaining calories\n",
    "            # if abs(remaining_calories_breakfast - food_calories) in range(50):\n",
    "            selected_foods_breakfast.append((food_name, food_calories))\n",
    "            remaining_calories_breakfast -= food_calories\n",
    "            \n",
    "    while remaining_calories_lunch > 0:\n",
    "        # Choose a random food table\n",
    "        table_name = random.choice(list(food_tables.keys()))\n",
    "        table = food_tables[table_name]\n",
    "        \n",
    "        if list(table.values())[0][0][6] == 1:\n",
    "            # Choose a random food item from the selected table\n",
    "            food_name = random.choice(list(table.keys()))\n",
    "            \n",
    "            food_calories = table[food_name][0][4]\n",
    "\n",
    "            # Check if adding the food exceeds the remaining calories\n",
    "            # if abs(remaining_calories_breakfast - food_calories) in range(50):\n",
    "            selected_foods_lunch.append((food_name, food_calories))\n",
    "            remaining_calories_lunch -= food_calories\n",
    "            \n",
    "    while remaining_calories_dinner > 0:\n",
    "        # Choose a random food table\n",
    "        table_name = random.choice(list(food_tables.keys()))\n",
    "        table = food_tables[table_name]\n",
    "        \n",
    "        if list(table.values())[0][0][7] == 1:\n",
    "            # Choose a random food item from the selected table\n",
    "            food_name = random.choice(list(table.keys()))\n",
    "            \n",
    "            food_calories = table[food_name][0][4]\n",
    "\n",
    "            # Check if adding the food exceeds the remaining calories\n",
    "            # if abs(remaining_calories_breakfast - food_calories) in range(50):\n",
    "            selected_foods_dinner.append((food_name, food_calories))\n",
    "            remaining_calories_dinner -= food_calories\n",
    "\n",
    "    return selected_foods_breakfast, selected_foods_lunch, selected_foods_dinner\n",
    "\n",
    "\n",
    "daily_calorie_limit = 1500\n",
    "recommended_foods_breakfast, recommended_foods_lunch, recommended_foods_dinner = recommend_food(daily_calorie_limit)"
   ]
  },
  {
   "cell_type": "code",
   "execution_count": 4,
   "metadata": {},
   "outputs": [
    {
     "data": {
      "text/plain": [
       "[('Khichdi (1 Small Bowl)', 125),\n",
       " ('VaghareliKhichadi (1 Small Bowl)', 98),\n",
       " ('VaghareliKhichadi (1 Small Bowl)', 98),\n",
       " ('Khakhra(1 Pieces) (1 Medium Size)', 89),\n",
       " ('Medium Apple (1 Medium Size)', 107),\n",
       " ('Khakhra(1 Pieces) (1 Medium Size)', 89)]"
      ]
     },
     "execution_count": 4,
     "metadata": {},
     "output_type": "execute_result"
    }
   ],
   "source": [
    "recommended_foods_breakfast"
   ]
  },
  {
   "cell_type": "code",
   "execution_count": null,
   "metadata": {},
   "outputs": [],
   "source": []
  }
 ],
 "metadata": {
  "kernelspec": {
   "display_name": "rnd",
   "language": "python",
   "name": "python3"
  },
  "language_info": {
   "codemirror_mode": {
    "name": "ipython",
    "version": 3
   },
   "file_extension": ".py",
   "mimetype": "text/x-python",
   "name": "python",
   "nbconvert_exporter": "python",
   "pygments_lexer": "ipython3",
   "version": "3.10.13"
  }
 },
 "nbformat": 4,
 "nbformat_minor": 2
}
