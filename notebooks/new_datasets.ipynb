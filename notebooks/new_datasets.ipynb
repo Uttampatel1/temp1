{
 "cells": [
  {
   "cell_type": "code",
   "execution_count": 1,
   "metadata": {},
   "outputs": [],
   "source": [
    "import os\n",
    "import pandas as pd \n",
    "import numpy as np \n",
    "import matplotlib.pyplot as plt "
   ]
  },
  {
   "cell_type": "code",
   "execution_count": 5,
   "metadata": {},
   "outputs": [
    {
     "data": {
      "text/plain": [
       "(100000, 10)"
      ]
     },
     "execution_count": 5,
     "metadata": {},
     "output_type": "execute_result"
    }
   ],
   "source": [
    "df = pd.read_csv(\"../data/rad_food_dataset.csv\")\n",
    "df.shape"
   ]
  },
  {
   "cell_type": "code",
   "execution_count": 6,
   "metadata": {},
   "outputs": [
    {
     "data": {
      "text/html": [
       "<div>\n",
       "<style scoped>\n",
       "    .dataframe tbody tr th:only-of-type {\n",
       "        vertical-align: middle;\n",
       "    }\n",
       "\n",
       "    .dataframe tbody tr th {\n",
       "        vertical-align: top;\n",
       "    }\n",
       "\n",
       "    .dataframe thead th {\n",
       "        text-align: right;\n",
       "    }\n",
       "</style>\n",
       "<table border=\"1\" class=\"dataframe\">\n",
       "  <thead>\n",
       "    <tr style=\"text-align: right;\">\n",
       "      <th></th>\n",
       "      <th>name</th>\n",
       "      <th>age</th>\n",
       "      <th>gender</th>\n",
       "      <th>weight</th>\n",
       "      <th>height</th>\n",
       "      <th>activity_level</th>\n",
       "      <th>daily_calorie_limit</th>\n",
       "      <th>recommended_foods_breakfast</th>\n",
       "      <th>recommended_foods_lunch</th>\n",
       "      <th>recommended_foods_dinner</th>\n",
       "    </tr>\n",
       "  </thead>\n",
       "  <tbody>\n",
       "    <tr>\n",
       "      <th>0</th>\n",
       "      <td>Michelle Ortiz</td>\n",
       "      <td>43</td>\n",
       "      <td>Female</td>\n",
       "      <td>51</td>\n",
       "      <td>153</td>\n",
       "      <td>moderate</td>\n",
       "      <td>1898.43</td>\n",
       "      <td>[[\"Kiwi Fruit (1 Medium Size)\", 42], [\"Litchi ...</td>\n",
       "      <td>[[\"Roti (1 Medium Size)\", 85], [\"Stuffed tomat...</td>\n",
       "      <td>[[\"Kadhi(1 Small Bowl)\", 78], [\"VaghareliKhich...</td>\n",
       "    </tr>\n",
       "    <tr>\n",
       "      <th>1</th>\n",
       "      <td>Stacey Barnett</td>\n",
       "      <td>50</td>\n",
       "      <td>Female</td>\n",
       "      <td>87</td>\n",
       "      <td>159</td>\n",
       "      <td>active</td>\n",
       "      <td>2669.32</td>\n",
       "      <td>[[\"Grapes Black (1 Medium Size)\", 5], [\"Muskme...</td>\n",
       "      <td>[[\"Rotla (Bajra)(1 Medium Size)\", 113], [\"Spro...</td>\n",
       "      <td>[[\"Green gram subji(1 Small Bowl)\", 102], [\"Ja...</td>\n",
       "    </tr>\n",
       "    <tr>\n",
       "      <th>2</th>\n",
       "      <td>Rebekah Smith</td>\n",
       "      <td>94</td>\n",
       "      <td>Male</td>\n",
       "      <td>85</td>\n",
       "      <td>181</td>\n",
       "      <td>extra_active</td>\n",
       "      <td>2860.92</td>\n",
       "      <td>[[\"Medium Apple (1 Medium Size)\", 107], [\"Medi...</td>\n",
       "      <td>[[\"Kadhi(1 Small Bowl)\", 78], [\"Radious Leaves...</td>\n",
       "      <td>[[\"Carrot tomato beetroot salad (2 Table Spoon...</td>\n",
       "    </tr>\n",
       "    <tr>\n",
       "      <th>3</th>\n",
       "      <td>Albert Rosales</td>\n",
       "      <td>27</td>\n",
       "      <td>Female</td>\n",
       "      <td>74</td>\n",
       "      <td>156</td>\n",
       "      <td>extra_active</td>\n",
       "      <td>2897.71</td>\n",
       "      <td>[[\"Medium Apple (1 Medium Size)\", 107], [\"Guav...</td>\n",
       "      <td>[[\"Rotla (Bajra)(1 Medium Size)\", 113], [\"Undh...</td>\n",
       "      <td>[[\"Red gram dal(1 Small Bowl)\", 116], [\"Kadhi(...</td>\n",
       "    </tr>\n",
       "    <tr>\n",
       "      <th>4</th>\n",
       "      <td>Christopher Cervantes</td>\n",
       "      <td>91</td>\n",
       "      <td>Male</td>\n",
       "      <td>89</td>\n",
       "      <td>161</td>\n",
       "      <td>active</td>\n",
       "      <td>2554.72</td>\n",
       "      <td>[[\"Avocado Fruit (Sliced) (1 Medium Size)\", 21...</td>\n",
       "      <td>[[\"Paratha(1 Medium Size)\", 118], [\"Stuffed br...</td>\n",
       "      <td>[[\"Paratha(1 Medium Size)\", 118], [\"VaghareliK...</td>\n",
       "    </tr>\n",
       "  </tbody>\n",
       "</table>\n",
       "</div>"
      ],
      "text/plain": [
       "                    name  age  gender  weight  height activity_level  \\\n",
       "0         Michelle Ortiz   43  Female      51     153       moderate   \n",
       "1         Stacey Barnett   50  Female      87     159         active   \n",
       "2          Rebekah Smith   94    Male      85     181   extra_active   \n",
       "3         Albert Rosales   27  Female      74     156   extra_active   \n",
       "4  Christopher Cervantes   91    Male      89     161         active   \n",
       "\n",
       "   daily_calorie_limit                        recommended_foods_breakfast  \\\n",
       "0              1898.43  [[\"Kiwi Fruit (1 Medium Size)\", 42], [\"Litchi ...   \n",
       "1              2669.32  [[\"Grapes Black (1 Medium Size)\", 5], [\"Muskme...   \n",
       "2              2860.92  [[\"Medium Apple (1 Medium Size)\", 107], [\"Medi...   \n",
       "3              2897.71  [[\"Medium Apple (1 Medium Size)\", 107], [\"Guav...   \n",
       "4              2554.72  [[\"Avocado Fruit (Sliced) (1 Medium Size)\", 21...   \n",
       "\n",
       "                             recommended_foods_lunch  \\\n",
       "0  [[\"Roti (1 Medium Size)\", 85], [\"Stuffed tomat...   \n",
       "1  [[\"Rotla (Bajra)(1 Medium Size)\", 113], [\"Spro...   \n",
       "2  [[\"Kadhi(1 Small Bowl)\", 78], [\"Radious Leaves...   \n",
       "3  [[\"Rotla (Bajra)(1 Medium Size)\", 113], [\"Undh...   \n",
       "4  [[\"Paratha(1 Medium Size)\", 118], [\"Stuffed br...   \n",
       "\n",
       "                            recommended_foods_dinner  \n",
       "0  [[\"Kadhi(1 Small Bowl)\", 78], [\"VaghareliKhich...  \n",
       "1  [[\"Green gram subji(1 Small Bowl)\", 102], [\"Ja...  \n",
       "2  [[\"Carrot tomato beetroot salad (2 Table Spoon...  \n",
       "3  [[\"Red gram dal(1 Small Bowl)\", 116], [\"Kadhi(...  \n",
       "4  [[\"Paratha(1 Medium Size)\", 118], [\"VaghareliK...  "
      ]
     },
     "execution_count": 6,
     "metadata": {},
     "output_type": "execute_result"
    }
   ],
   "source": [
    "df.head()"
   ]
  },
  {
   "cell_type": "code",
   "execution_count": null,
   "metadata": {},
   "outputs": [],
   "source": []
  }
 ],
 "metadata": {
  "kernelspec": {
   "display_name": "rnd",
   "language": "python",
   "name": "python3"
  },
  "language_info": {
   "codemirror_mode": {
    "name": "ipython",
    "version": 3
   },
   "file_extension": ".py",
   "mimetype": "text/x-python",
   "name": "python",
   "nbconvert_exporter": "python",
   "pygments_lexer": "ipython3",
   "version": "3.10.13"
  }
 },
 "nbformat": 4,
 "nbformat_minor": 2
}
